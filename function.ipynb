{
  "nbformat": 4,
  "nbformat_minor": 0,
  "metadata": {
    "colab": {
      "provenance": []
    },
    "kernelspec": {
      "name": "python3",
      "display_name": "Python 3"
    },
    "language_info": {
      "name": "python"
    }
  },
  "cells": [
    {
      "cell_type": "markdown",
      "source": [
        "##Helper Methods"
      ],
      "metadata": {
        "id": "x_uFcYNsNgoF"
      }
    },
    {
      "cell_type": "code",
      "source": [
        "# using my spreadsheet to get the attributes and real-world weights and then generate the participants\n",
        "def generate_participants(n):\n",
        "    df = pd.read_csv('/content/drive/MyDrive/css summer 2024/stanford/Fictional Participants - Sheet2.csv')\n",
        "    attributes = {\n",
        "        'age_group':\n",
        "        {'categories': df.iloc[:, 0].dropna().tolist(), 'weights': df.iloc[:, 1].dropna().tolist()},\n",
        "        'marital_status':\n",
        "        {'categories': df.iloc[:, 2].dropna().tolist(), 'weights': df.iloc[:, 3].dropna().tolist()},\n",
        "        'race':\n",
        "        {'categories': df.iloc[:, 4].dropna().tolist(), 'weights': df.iloc[:, 5].dropna().tolist()},\n",
        "        'sex':\n",
        "        {'categories': df.iloc[:, 6].dropna().tolist(), 'weights': df.iloc[:, 7].dropna().tolist()},\n",
        "        'education':\n",
        "        {'categories': df.iloc[:, 8].dropna().tolist(), 'weights': df.iloc[:, 9].dropna().tolist()},\n",
        "        'income':\n",
        "        {'categories': df.iloc[:, 10].dropna().tolist(), 'weights': df.iloc[:, 11].dropna().tolist()},\n",
        "        'mental_health':\n",
        "        {'categories': df.iloc[:, 12].dropna().tolist(), 'weights': df.iloc[:, 13].dropna().tolist()},\n",
        "        'political_affiliation':\n",
        "        {'categories': df.iloc[:, 14].dropna().tolist(), 'weights': df.iloc[:, 15].dropna().tolist()}\n",
        "    }\n",
        "    data = {}\n",
        "    for attribute, info in attributes.items():\n",
        "        data[attribute] = np.random.choice(info['categories'], size=n, p=info['weights'])\n",
        "\n",
        "    df = pd.DataFrame(data)\n",
        "\n",
        "    return df, attributes"
      ],
      "metadata": {
        "id": "4oENDXoCNYe-"
      },
      "execution_count": null,
      "outputs": []
    },
    {
      "cell_type": "code",
      "source": [
        "from google.colab import drive\n",
        "drive.mount('/content/drive')"
      ],
      "metadata": {
        "colab": {
          "base_uri": "https://localhost:8080/"
        },
        "id": "WcfxQtDmfho7",
        "outputId": "eca05960-effd-4fa9-d4fb-96c989cef80e"
      },
      "execution_count": null,
      "outputs": [
        {
          "output_type": "stream",
          "name": "stdout",
          "text": [
            "Mounted at /content/drive\n"
          ]
        }
      ]
    },
    {
      "cell_type": "code",
      "source": [
        "# get the system call string given the attributes of a persona\n",
        "def generatePersonas(df):\n",
        "  personas = []\n",
        "  for i in range(len(df)):\n",
        "    age = df.iloc[i, 0]\n",
        "    marital_status = df.iloc[i, 1]\n",
        "    race = df.iloc[i, 2]\n",
        "    sex = df.iloc[i, 3]\n",
        "    education = df.iloc[i, 4]\n",
        "    income = df.iloc[i, 5]\n",
        "    mental_health = df.iloc[i, 6]\n",
        "    political_affiliation = df.iloc[i, 7]\n",
        "    persona = f\"You are a {age} year-old, {marital_status}, {race} {sex} with {education} making {income} per year, living in the United States. You have {mental_health} and your political affiliation is {political_affiliation}.\"\n",
        "    personas.append(persona)\n",
        "  return personas"
      ],
      "metadata": {
        "id": "oJmkXGfINZAm"
      },
      "execution_count": null,
      "outputs": []
    },
    {
      "cell_type": "code",
      "source": [
        "# given the set of messages and personas, making the calls\n",
        "def calls(message, persona):\n",
        "  user_content = \"\"\"\n",
        "  You are presented with a social media post. On a scale from 0 to 100, please indicate how you would feel,\n",
        "  as a social media user, after seeing the social media post. Specifically, answer these questions:\n",
        "  (1) if you would feel satisfied with yourself,\n",
        "  (2) if you have a positive attitude towards yourself, and\n",
        "  (3) if you would feel that you have a number of good qualities.\n",
        "  Please just output three numbers, separated by a comma and a space, and nothing else.\n",
        "  An example format is: \"50, 50, 50\" and nothing else.\n",
        "\n",
        "  SOCIAL MEDIA POST:\n",
        "  \"\"\"\n",
        "  user_content += message\n",
        "  system_content = persona\n",
        "  response = api_call(client, system_content, user_content)\n",
        "  return response"
      ],
      "metadata": {
        "id": "WDqz4Q0-RWDN"
      },
      "execution_count": null,
      "outputs": []
    },
    {
      "cell_type": "code",
      "source": [
        "# just an API call\n",
        "def api_call(client, system_content, user_content):\n",
        "  response = client.chat.completions.create(\n",
        "    model=\"gpt-3.5-turbo\",\n",
        "    messages=[\n",
        "        {\"role\": \"system\", \"content\": system_content},\n",
        "        {\"role\": \"user\", \"content\": user_content}\n",
        "    ]\n",
        "  )\n",
        "  return response.choices[0].message.content"
      ],
      "metadata": {
        "id": "lImM220NRbbA"
      },
      "execution_count": null,
      "outputs": []
    },
    {
      "cell_type": "code",
      "source": [
        "def print_cols(df):\n",
        "  cols = list(df.columns)\n",
        "  print(cols)\n",
        "  return"
      ],
      "metadata": {
        "id": "xLCxAh7HUpA6"
      },
      "execution_count": null,
      "outputs": []
    },
    {
      "cell_type": "markdown",
      "source": [
        "##Main Code"
      ],
      "metadata": {
        "id": "CV23FmG0Nklr"
      }
    },
    {
      "cell_type": "code",
      "source": [
        "my_api_key = \"\" # from PASCL's GPT-4 account"
      ],
      "metadata": {
        "id": "lP1uCpUVSFMm"
      },
      "execution_count": null,
      "outputs": []
    },
    {
      "cell_type": "code",
      "source": [
        "pip install openai"
      ],
      "metadata": {
        "id": "hGT_-0FBSID-",
        "colab": {
          "base_uri": "https://localhost:8080/"
        },
        "outputId": "1b7e81f9-a274-4baf-cd3a-694328545202"
      },
      "execution_count": null,
      "outputs": [
        {
          "output_type": "stream",
          "name": "stdout",
          "text": [
            "Collecting openai\n",
            "  Downloading openai-1.43.0-py3-none-any.whl.metadata (22 kB)\n",
            "Requirement already satisfied: anyio<5,>=3.5.0 in /usr/local/lib/python3.10/dist-packages (from openai) (3.7.1)\n",
            "Requirement already satisfied: distro<2,>=1.7.0 in /usr/lib/python3/dist-packages (from openai) (1.7.0)\n",
            "Collecting httpx<1,>=0.23.0 (from openai)\n",
            "  Downloading httpx-0.27.2-py3-none-any.whl.metadata (7.1 kB)\n",
            "Collecting jiter<1,>=0.4.0 (from openai)\n",
            "  Downloading jiter-0.5.0-cp310-cp310-manylinux_2_17_x86_64.manylinux2014_x86_64.whl.metadata (3.6 kB)\n",
            "Requirement already satisfied: pydantic<3,>=1.9.0 in /usr/local/lib/python3.10/dist-packages (from openai) (2.8.2)\n",
            "Requirement already satisfied: sniffio in /usr/local/lib/python3.10/dist-packages (from openai) (1.3.1)\n",
            "Requirement already satisfied: tqdm>4 in /usr/local/lib/python3.10/dist-packages (from openai) (4.66.5)\n",
            "Requirement already satisfied: typing-extensions<5,>=4.11 in /usr/local/lib/python3.10/dist-packages (from openai) (4.12.2)\n",
            "Requirement already satisfied: idna>=2.8 in /usr/local/lib/python3.10/dist-packages (from anyio<5,>=3.5.0->openai) (3.8)\n",
            "Requirement already satisfied: exceptiongroup in /usr/local/lib/python3.10/dist-packages (from anyio<5,>=3.5.0->openai) (1.2.2)\n",
            "Requirement already satisfied: certifi in /usr/local/lib/python3.10/dist-packages (from httpx<1,>=0.23.0->openai) (2024.8.30)\n",
            "Collecting httpcore==1.* (from httpx<1,>=0.23.0->openai)\n",
            "  Downloading httpcore-1.0.5-py3-none-any.whl.metadata (20 kB)\n",
            "Collecting h11<0.15,>=0.13 (from httpcore==1.*->httpx<1,>=0.23.0->openai)\n",
            "  Downloading h11-0.14.0-py3-none-any.whl.metadata (8.2 kB)\n",
            "Requirement already satisfied: annotated-types>=0.4.0 in /usr/local/lib/python3.10/dist-packages (from pydantic<3,>=1.9.0->openai) (0.7.0)\n",
            "Requirement already satisfied: pydantic-core==2.20.1 in /usr/local/lib/python3.10/dist-packages (from pydantic<3,>=1.9.0->openai) (2.20.1)\n",
            "Downloading openai-1.43.0-py3-none-any.whl (365 kB)\n",
            "\u001b[2K   \u001b[90m━━━━━━━━━━━━━━━━━━━━━━━━━━━━━━━━━━━━━━━━\u001b[0m \u001b[32m365.7/365.7 kB\u001b[0m \u001b[31m7.1 MB/s\u001b[0m eta \u001b[36m0:00:00\u001b[0m\n",
            "\u001b[?25hDownloading httpx-0.27.2-py3-none-any.whl (76 kB)\n",
            "\u001b[2K   \u001b[90m━━━━━━━━━━━━━━━━━━━━━━━━━━━━━━━━━━━━━━━━\u001b[0m \u001b[32m76.4/76.4 kB\u001b[0m \u001b[31m2.8 MB/s\u001b[0m eta \u001b[36m0:00:00\u001b[0m\n",
            "\u001b[?25hDownloading httpcore-1.0.5-py3-none-any.whl (77 kB)\n",
            "\u001b[2K   \u001b[90m━━━━━━━━━━━━━━━━━━━━━━━━━━━━━━━━━━━━━━━━\u001b[0m \u001b[32m77.9/77.9 kB\u001b[0m \u001b[31m3.2 MB/s\u001b[0m eta \u001b[36m0:00:00\u001b[0m\n",
            "\u001b[?25hDownloading jiter-0.5.0-cp310-cp310-manylinux_2_17_x86_64.manylinux2014_x86_64.whl (318 kB)\n",
            "\u001b[2K   \u001b[90m━━━━━━━━━━━━━━━━━━━━━━━━━━━━━━━━━━━━━━━━\u001b[0m \u001b[32m318.9/318.9 kB\u001b[0m \u001b[31m15.4 MB/s\u001b[0m eta \u001b[36m0:00:00\u001b[0m\n",
            "\u001b[?25hDownloading h11-0.14.0-py3-none-any.whl (58 kB)\n",
            "\u001b[2K   \u001b[90m━━━━━━━━━━━━━━━━━━━━━━━━━━━━━━━━━━━━━━━━\u001b[0m \u001b[32m58.3/58.3 kB\u001b[0m \u001b[31m3.1 MB/s\u001b[0m eta \u001b[36m0:00:00\u001b[0m\n",
            "\u001b[?25hInstalling collected packages: jiter, h11, httpcore, httpx, openai\n",
            "Successfully installed h11-0.14.0 httpcore-1.0.5 httpx-0.27.2 jiter-0.5.0 openai-1.43.0\n"
          ]
        }
      ]
    },
    {
      "cell_type": "code",
      "execution_count": null,
      "metadata": {
        "id": "kGki8TZbMIJL"
      },
      "outputs": [],
      "source": [
        "import pandas as pd\n",
        "import numpy as np\n",
        "import openai\n",
        "import os\n",
        "from openai import OpenAI"
      ]
    },
    {
      "cell_type": "code",
      "source": [
        "os.environ[\"OPENAI_API_KEY\"] = my_api_key\n",
        "openai.api_key = os.getenv(\"OPENAI_API_KEY\")\n",
        "client = OpenAI()"
      ],
      "metadata": {
        "id": "KOZNbZyBSP_p"
      },
      "execution_count": null,
      "outputs": []
    },
    {
      "cell_type": "code",
      "source": [
        "# main function cell\n",
        "data = pd.read_csv('/content/drive/MyDrive/2024_07_08_Twitter_evaluations_Schoene_RatingLevel (1).csv').iloc[:, 2:3].dropna() # needed for preprocessing\n",
        "data = data[:10] # just for testing\n",
        "for index, row in data.iterrows():\n",
        "  participants, attributes = generate_participants(5) # change number of participants per message here\n",
        "  personas = generatePersonas(participants)\n",
        "  #print(personas)    # see what personas are being generated\n",
        "  i = 1\n",
        "  for persona in personas:\n",
        "    tweet = row['tweet']\n",
        "    response = calls(tweet, persona)\n",
        "    array = [int(item.strip()) for item in response.split(',')]\n",
        "    name1 = \"persona_\" + str(i) + \"_satisfaction\"\n",
        "    name2 = \"persona_\" + str(i) + \"_quality\"\n",
        "    name3 = \"persona_\" + str(i) + \"_positivity\"\n",
        "    data.at[index, name1] = array[0]\n",
        "    data.at[index, name2] = array[1]\n",
        "    data.at[index, name3] = array[2]\n",
        "    i += 1"
      ],
      "metadata": {
        "id": "I60eg5qdQZls"
      },
      "execution_count": null,
      "outputs": []
    },
    {
      "cell_type": "code",
      "source": [
        "print(data.shape)\n",
        "print_cols(data)\n",
        "print(data)"
      ],
      "metadata": {
        "id": "ZBTjQUORUWPz"
      },
      "execution_count": null,
      "outputs": []
    },
    {
      "cell_type": "code",
      "source": [
        "data.to_csv('/content/drive/MyDrive/output.csv')"
      ],
      "metadata": {
        "id": "AjjSI7ColY0l"
      },
      "execution_count": null,
      "outputs": []
    }
  ]
}